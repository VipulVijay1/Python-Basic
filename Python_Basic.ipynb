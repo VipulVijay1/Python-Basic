{
  "nbformat": 4,
  "nbformat_minor": 0,
  "metadata": {
    "colab": {
      "provenance": []
    },
    "kernelspec": {
      "name": "python3",
      "display_name": "Python 3"
    },
    "language_info": {
      "name": "python"
    }
  },
  "cells": [
    {
      "cell_type": "markdown",
      "source": [
        "#Python Basic"
      ],
      "metadata": {
        "id": "wFOJStyysgno"
      }
    },
    {
      "cell_type": "markdown",
      "source": [
        "1.) What is Python and why is it popular ?\n",
        "\n",
        "-> Python is a high-level, interpreted, and general-purpose programming language developed by Guido van Rossum and first released in 1991. It is known for its simple and easy-to-read syntax which makes it an ideal language for beginners as well as experienced developers.\n",
        "\n",
        "Python supports multiple programming paradigms, including procedural, object-oriented, and functional programming. It is a dynamically typed language, meaning you do not need to declare variable types explicitly.\n",
        "\n",
        "Why popular ?\n",
        "\n",
        "1.)Simple and Readable Syntax\n",
        "2.) Versatile and General-Purpose\n",
        "3.) Large Standard Library and Ecosystem\n",
        "4.) Cross-Platform Compatibility\n",
        "5.)Strong Community Support\n",
        "6.) Widely Used in Industry and Academia\n",
        "\n",
        "\n"
      ],
      "metadata": {
        "id": "IuIJyXLAt-Qt"
      }
    },
    {
      "cell_type": "markdown",
      "source": [
        "2.)What is an interpreter in Python ?\n",
        "\n",
        "-> An interpreter in Python is a program that reads and executes Python code line by line. It converts the high-level Python source code into machine-readable code (bytecode) at runtime, and then executes it directly.\n",
        "\n",
        "Unlike a compiler, which translates the entire code at once before execution, the Python interpreter executes each line individually, which makes debugging easier and immediate.\n",
        "\n"
      ],
      "metadata": {
        "id": "TOp74Dcyt_63"
      }
    },
    {
      "cell_type": "code",
      "execution_count": null,
      "metadata": {
        "id": "J3NbPx-gr9-1"
      },
      "outputs": [],
      "source": []
    },
    {
      "cell_type": "markdown",
      "source": [
        "3.)  What are pre-defined keywords in Python ?\n",
        "\n",
        "-> Pre-defined keywords in Python are the reserved words that have special meanings and specific purposes in the Python programming language. These keywords are used to define the syntax and structure of Python programs and cannot be used as variable names, function names, or identifiers.\n",
        "\n",
        "e.g if , else , break , continue , while , for , ... and many more"
      ],
      "metadata": {
        "id": "TOpNCo9WuV6U"
      }
    },
    {
      "cell_type": "markdown",
      "source": [],
      "metadata": {
        "id": "ZcIu5xHLt3jp"
      }
    },
    {
      "cell_type": "markdown",
      "source": [
        "4.) Can keywords be used as variable names ?\n",
        "\n",
        "-> No, keywords cannot be used as variable names in Python.\n",
        "\n",
        "Keywords are reserved words that have special meaning in the language, and using them as variable names will result in a syntax error. These keywords define the structure and rules of the Python language, such as control flow (if, else, while), function definition (def), class declaration (class), etc."
      ],
      "metadata": {
        "id": "vG3C94dSvasj"
      }
    },
    {
      "cell_type": "markdown",
      "source": [
        "5.) What is mutability in Python ?\n",
        "\n",
        "->Mutability in Python refers to the ability of an object to be changed after it is created. In simple terms:\n",
        "\n",
        "Mutable objects can be modified.\n",
        "\n",
        "Immutable objects cannot be changed once they are created.\n",
        "\n"
      ],
      "metadata": {
        "id": "fjNMwKzNvuZi"
      }
    },
    {
      "cell_type": "markdown",
      "source": [
        "6.)  Why are lists mutable, but tuples are immutable ?\n",
        "\n",
        "-> In Python, the mutability of an object refers to whether its content can be changed after creation. Based on this concept:\n",
        "\n",
        "Lists are mutable, meaning their elements can be modified, added, or removed.\n",
        "\n",
        "Tuples are immutable, meaning their content cannot be changed once defined.\n",
        "\n"
      ],
      "metadata": {
        "id": "ooiWls5icwU7"
      }
    },
    {
      "cell_type": "markdown",
      "source": [
        "7.) What is the difference between “==” and “is” operators in Python ?\n",
        "\n",
        "-> == Operator (Equality Operator):\n",
        "Checks whether the values of two variables are equal.\n",
        "\n",
        "Compares the data or content of the objects.\n",
        "a = [1, 2, 3]\n",
        "b = [1, 2, 3]\n",
        "print(a == b)\n",
        "\n",
        "\n",
        "is Operator (Identity Operator):\n",
        "Checks whether two variables refer to the same object in memory.\n",
        "\n",
        "Compares the memory address (identity) of the objects.\n",
        "x = \"hello\"\n",
        "y = \"hello\"\n",
        "print(x == y)   # True  → same content\n",
        "print(x is y)   # True  → same object in memory (string interning)\n",
        "\n",
        "a = [1, 2]\n",
        "b = [1, 2]\n",
        "print(a == b)   # True  → content is same\n",
        "print(a is b)   # False → different memory locations"
      ],
      "metadata": {
        "id": "H7NoCxfadK8a"
      }
    },
    {
      "cell_type": "markdown",
      "source": [
        "8.) What are logical operators in Python ?\n",
        "\n",
        "-> Logical operators in Python are used to perform logical operations on expressions that return Boolean values (True or False). These operators are mainly used in decision-making statements such as if, while, and assert.\n",
        "\n",
        "***and Operator***\n",
        "\n",
        "Returns True only if both conditions are True.\n",
        "\n",
        "If any one condition is False, the result will be False.\n",
        "\n",
        "***or Operator***\n",
        "\n",
        "Returns True if at least one of the conditions is True.\n",
        "\n",
        "Returns False only when both conditions are False.\n",
        "\n",
        "***not Operator***\n",
        "\n",
        "Reverses the result of a condition.\n",
        "\n",
        "If the condition is True, not makes it False, and vice versa."
      ],
      "metadata": {
        "id": "ouE52uWIdpeA"
      }
    },
    {
      "cell_type": "markdown",
      "source": [
        "9.) What is type casting in Python ?\n",
        "\n",
        "-> Type casting in Python refers to the process of converting one data type into another. It is commonly used when we want to perform operations that require variables to be of the same type or to match a required format.\n",
        "\n",
        "Common functions used:\n",
        "\n",
        "int() - to convert to integer\n",
        "\n",
        "float() - to convert to float\n",
        "\n",
        "str() - to convert to string\n",
        "\n",
        "bool() - to convert to boolean"
      ],
      "metadata": {
        "id": "CD1xg9M5ektn"
      }
    },
    {
      "cell_type": "markdown",
      "source": [],
      "metadata": {
        "id": "RHLVw253e49M"
      }
    },
    {
      "cell_type": "markdown",
      "source": [
        "10.) What is the difference between implicit and explicit type casting ?\n",
        "\n",
        "->  ***Implicit Type Casting:***\n",
        "Performed automatically by Python.\n",
        "\n",
        "Happens when Python automatically converts one data type to another during an operation.\n",
        "\n",
        "Mostly occurs when combining different numeric types (e.g., int to float) where no data loss is expected.\n",
        "\n",
        "It is safe and automatic, and no manual instruction is needed.\n",
        "\n",
        " ***Explicit Type Casting:***\n",
        "\n",
        "Done manually by the programmer.\n",
        "\n",
        "The programmer uses built-in functions like int(), float(), str(), etc., to convert data types.\n",
        "\n",
        "Required when Python cannot convert automatically, or when a specific data type is needed.\n",
        "\n",
        "Helps in controlling how data is interpreted and used in operations."
      ],
      "metadata": {
        "id": "Z_Dk7Tk_fUrv"
      }
    },
    {
      "cell_type": "markdown",
      "source": [
        "11.) What is the purpose of conditional statements in Python ?\n",
        "\n",
        "-> Conditional statements in Python are used to make decisions in a program based on whether a certain condition is True or False. They control the flow of execution by allowing the program to choose between different actions depending on the input or current state.\n",
        "\n",
        " ***Purpose of Conditional Statements:***\n",
        "\n",
        "1.) Decision Making:\n",
        "\n",
        "    They allow the program to perform specific tasks only when certain conditions are met.\n",
        "\n",
        "2.) ***Controlling Program Flow:***\n",
        "\n",
        "    Conditional statements help in branching the program, so different blocks of code can run based on different conditions.\n",
        "\n",
        "3.) ***Enhancing Flexibility:***\n",
        "\n",
        "    They make programs dynamic and responsive by reacting to different user inputs or variable values.\n",
        "\n",
        "4.) ***Reducing Redundancy:***\n",
        "\n",
        "    By using conditions, we avoid repeating code and keep the program organized and efficient.\n",
        "\n"
      ],
      "metadata": {
        "id": "81Lwo10XfmRi"
      }
    },
    {
      "cell_type": "markdown",
      "source": [
        "12.) How does the elif statement work ?\n",
        "\n",
        "-> The elif statement in Python stands for \"else if\" and is used to check multiple conditions after an initial if statement. It allows the program to test several expressions one by one, and execute the block of code that corresponds to the first condition that evaluates to True.\n",
        "\n",
        "*** How It Works:***\n",
        "\n",
        "    The program starts by evaluating the if condition.\n",
        "\n",
        "    If the if condition is False, it checks the first elif condition.\n",
        "\n",
        "    If the elif condition is True, its block of code is executed.\n",
        "\n",
        "    If all if and elif conditions are False, then the else block (if present) is executed.\n",
        "\n",
        "    Only one block of code will execute in a chain of if-elif-else, even if multiple conditions are True."
      ],
      "metadata": {
        "id": "e2mQGjmZgYIC"
      }
    },
    {
      "cell_type": "markdown",
      "source": [
        "13.) What is the difference between for and while loops ?\n",
        "\n",
        "-> ***for Loop:***\n",
        "\n",
        "    Used when the number of iterations is known or when iterating over a sequence (like a list, tuple, string, etc.).\n",
        "\n",
        "    It automatically iterates over each item in the sequence.\n",
        "\n",
        "    Commonly used for counted loops or to process elements of a collection.\n",
        "\n",
        "  ***while Loop:***\n",
        "  \n",
        "    Used when the number of iterations is not known in advance.\n",
        "\n",
        "    It keeps repeating as long as a specified condition remains True.\n",
        "\n",
        "    Suitable for situations where the loop should continue until a certain event or condition occurs.\n",
        "\n"
      ],
      "metadata": {
        "id": "r6RAKmRcgzp1"
      }
    },
    {
      "cell_type": "markdown",
      "source": [
        "14.)  Describe a scenario where a while loop is more suitable than a for loop ?\n",
        "\n",
        "->  A while loop is more suitable than a for loop when the number of times the loop should execute is not known beforehand and depends on a condition that changes during execution.\n",
        "\n",
        "***Example Scenario:***\n",
        "\n",
        "Imagine you are creating a program that asks a user to enter a password repeatedly until the correct password is entered.\n",
        "\n",
        "Since you don't know how many attempts the user will take, you cannot use a for loop with a fixed number of iterations.\n",
        "\n",
        "Instead, you use a while loop that continues to ask for input until the correct password is entered.\n",
        "\n",
        "This is ideal because the loop runs based on a condition (password correctness) rather than a fixed number of iterations."
      ],
      "metadata": {
        "id": "2ZcumJ_7hKtv"
      }
    },
    {
      "cell_type": "markdown",
      "source": [
        "#Practical"
      ],
      "metadata": {
        "id": "E0mHwY-DhmUc"
      }
    },
    {
      "cell_type": "code",
      "source": [
        "# 1. Write a Python program to print \"Hello, World!\n",
        "\n",
        "print(\"Hello, World!\")"
      ],
      "metadata": {
        "colab": {
          "base_uri": "https://localhost:8080/"
        },
        "id": "npTafNK1hq2q",
        "outputId": "a4b6f253-2ba0-4016-8532-84ee5ff33274"
      },
      "execution_count": 1,
      "outputs": [
        {
          "output_type": "stream",
          "name": "stdout",
          "text": [
            "Hello, World!\n"
          ]
        }
      ]
    },
    {
      "cell_type": "code",
      "source": [
        "# 2. Write a Python program that displays your name and age\n",
        "\n",
        "Name = input(\"Enter your name\")\n",
        "Age = input(\"Enter your age\")\n",
        "print(\"your Name is \",Name,\"and age is \",Age)"
      ],
      "metadata": {
        "colab": {
          "base_uri": "https://localhost:8080/"
        },
        "id": "K6aABa98iFzj",
        "outputId": "607f9e17-bb94-432d-b512-8f89ea2b0f5f"
      },
      "execution_count": 2,
      "outputs": [
        {
          "output_type": "stream",
          "name": "stdout",
          "text": [
            "Enter your nameVipul\n",
            "Enter your age23\n",
            "your Name is  Vipul and age is  23\n"
          ]
        }
      ]
    },
    {
      "cell_type": "code",
      "source": [
        "# 3.  Write code to print all the pre-defined keywords in Python using the keyword Library\n",
        "import keyword\n",
        "print(keyword.kwlist)"
      ],
      "metadata": {
        "colab": {
          "base_uri": "https://localhost:8080/"
        },
        "id": "hDOhmY9PinUq",
        "outputId": "610aa61a-cb48-4c79-cbcf-3f1bfdac788b"
      },
      "execution_count": 7,
      "outputs": [
        {
          "output_type": "stream",
          "name": "stdout",
          "text": [
            "['False', 'None', 'True', 'and', 'as', 'assert', 'async', 'await', 'break', 'class', 'continue', 'def', 'del', 'elif', 'else', 'except', 'finally', 'for', 'from', 'global', 'if', 'import', 'in', 'is', 'lambda', 'nonlocal', 'not', 'or', 'pass', 'raise', 'return', 'try', 'while', 'with', 'yield']\n"
          ]
        }
      ]
    },
    {
      "cell_type": "code",
      "source": [
        "# 4.  Write a program that checks if a given word is a Python keyword.\n",
        "import keyword\n",
        "keyword_list = keyword.kwlist\n",
        "str = input(\"Enter the keyword : \")\n",
        "if(str in keyword_list):\n",
        "  print(\"This is a keyword\")\n",
        "else:\n",
        "  print(\"This is not a keyword\")"
      ],
      "metadata": {
        "colab": {
          "base_uri": "https://localhost:8080/"
        },
        "id": "f0VwvKYljrvX",
        "outputId": "c3b98565-c48f-4780-ad4a-330fba907f8f"
      },
      "execution_count": 10,
      "outputs": [
        {
          "output_type": "stream",
          "name": "stdout",
          "text": [
            "Enter the keyword : vipul\n",
            "This is not a keyword\n"
          ]
        }
      ]
    },
    {
      "cell_type": "code",
      "source": [
        "# 5.  Create a list and tuple in Python, and demonstrate how attempting to change an element works differently\n",
        "#    for each.\n",
        "# Creating a list\n",
        "my_list = [10, 20, 30]\n",
        "print(\"Original list:\", my_list)\n",
        "\n",
        "# Changing an element in the list\n",
        "my_list[1] = 99\n",
        "print(\"Modified list:\", my_list)\n",
        "\n",
        "\n",
        "# Creating a tuple\n",
        "my_tuple = (10, 20, 30)\n",
        "print(\"Original tuple:\", my_tuple)\n",
        "\n",
        "# Attempting to change an element in the tuple\n",
        "try:\n",
        "    my_tuple[1] = 99  # This will raise an error\n",
        "except TypeError as e:\n",
        "    print(\"Error:\", e)\n"
      ],
      "metadata": {
        "colab": {
          "base_uri": "https://localhost:8080/"
        },
        "id": "onGK7uBzkdeQ",
        "outputId": "f2cacb94-2b5a-407f-c0b2-ff54a6cae3a2"
      },
      "execution_count": 11,
      "outputs": [
        {
          "output_type": "stream",
          "name": "stdout",
          "text": [
            "Original list: [10, 20, 30]\n",
            "Modified list: [10, 99, 30]\n",
            "Original tuple: (10, 20, 30)\n",
            "Error: 'tuple' object does not support item assignment\n"
          ]
        }
      ]
    },
    {
      "cell_type": "code",
      "source": [
        "# 6.  Write a function to demonstrate the behavior of mutable and immutable arguments\n",
        "def modify_values(num, lst):\n",
        "    # Attempt to modify immutable argument (integer)\n",
        "    num += 10\n",
        "    print(\"Inside function, num =\", num)\n",
        "\n",
        "    # Modify mutable argument (list)\n",
        "    lst.append(100)\n",
        "    print(\"Inside function, list =\", lst)\n",
        "\n",
        "# Outside the function\n",
        "number = 50\n",
        "my_list = [1, 2, 3]\n",
        "\n",
        "print(\"Before function call:\")\n",
        "print(\"number =\", number)\n",
        "print(\"my_list =\", my_list)\n",
        "\n",
        "modify_values(number, my_list)\n",
        "\n",
        "print(\"After function call:\")\n",
        "print(\"number =\", number)    # Immutable, original value unchanged\n",
        "print(\"my_list =\", my_list)  # Mutable, original list changed\n"
      ],
      "metadata": {
        "colab": {
          "base_uri": "https://localhost:8080/"
        },
        "id": "8ENzgR-gkxkG",
        "outputId": "1b40f873-5834-409a-f48a-220ac191a2b6"
      },
      "execution_count": 12,
      "outputs": [
        {
          "output_type": "stream",
          "name": "stdout",
          "text": [
            "Before function call:\n",
            "number = 50\n",
            "my_list = [1, 2, 3]\n",
            "Inside function, num = 60\n",
            "Inside function, list = [1, 2, 3, 100]\n",
            "After function call:\n",
            "number = 50\n",
            "my_list = [1, 2, 3, 100]\n"
          ]
        }
      ]
    },
    {
      "cell_type": "code",
      "source": [
        "# 7.  Write a program that performs basic arithmetic operations on two user-input numbers\n",
        "num1 = float(input(\"Enter first number: \"))\n",
        "num2 = float(input(\"Enter second number: \"))\n",
        "\n",
        "# Performing arithmetic operations\n",
        "addition = num1 + num2\n",
        "subtraction = num1 - num2\n",
        "multiplication = num1 * num2\n",
        "if num2 != 0:\n",
        "    division = num1 / num2\n",
        "else:\n",
        "    division = \"Undefined (division by zero)\"\n",
        "print(f\"Addition: {addition}\")\n",
        "print(f\"Subtraction: {subtraction}\")\n",
        "print(f\"Multiplication: {multiplication}\")\n",
        "print(f\"Division: {division}\")\n"
      ],
      "metadata": {
        "colab": {
          "base_uri": "https://localhost:8080/"
        },
        "id": "E0a4pBKBnF9R",
        "outputId": "1ff105f7-6514-47ba-945c-2c5d9b4427df"
      },
      "execution_count": 13,
      "outputs": [
        {
          "output_type": "stream",
          "name": "stdout",
          "text": [
            "Enter first number: 5\n",
            "Enter second number: 10\n",
            "Addition: 15.0\n",
            "Subtraction: -5.0\n",
            "Multiplication: 50.0\n",
            "Division: 0.5\n"
          ]
        }
      ]
    },
    {
      "cell_type": "code",
      "source": [
        "# 8. Write a program to demonstrate the use of logical operators ?\n",
        "# Input two boolean values from the user\n",
        "a = input(\"Enter True or False for a: \").strip().lower() == 'true'\n",
        "b = input(\"Enter True or False for b: \").strip().lower() == 'true'\n",
        "\n",
        "# Using logical operators\n",
        "and_result = a and b\n",
        "or_result = a or b\n",
        "not_a = not a\n",
        "not_b = not b\n",
        "\n",
        "# Display results\n",
        "print(\"a AND b is \", and_result)\n",
        "print(\"a OR b is \", or_result)\n",
        "print(\"NOT a is \" , not_a)\n",
        "print(\"NOT b is \" ,  not_b)\n"
      ],
      "metadata": {
        "colab": {
          "base_uri": "https://localhost:8080/"
        },
        "id": "59KkhOtknb01",
        "outputId": "b16f5816-ac45-45a6-d321-b2118448d312"
      },
      "execution_count": 17,
      "outputs": [
        {
          "output_type": "stream",
          "name": "stdout",
          "text": [
            "Enter True or False for a: true\n",
            "Enter True or False for b: false\n",
            "a AND b is  False\n",
            "a OR b is  True\n",
            "NOT a is  False\n",
            "NOT b is  True\n"
          ]
        }
      ]
    },
    {
      "cell_type": "code",
      "source": [
        "# 9. Write a Python program to convert user input from string to integer, float, and boolean types ?\n",
        "# Take input from the user as a string\n",
        "user_input = input(\"Enter something: \")\n",
        "\n",
        "# Convert to integer\n",
        "int_value = int(user_input)\n",
        "\n",
        "# Convert to float\n",
        "float_value = float(user_input)\n",
        "\n",
        "# Convert to boolean\n",
        "bool_value = bool(user_input)\n",
        "\n",
        "# Display the converted values\n",
        "print(\"Integer value:\", int_value)\n",
        "print(\"Float value:\", float_value)\n",
        "print(\"Boolean value:\", bool_value)\n",
        "\n"
      ],
      "metadata": {
        "colab": {
          "base_uri": "https://localhost:8080/"
        },
        "id": "R8aRTyP6oS_m",
        "outputId": "ad615ab3-1353-4cd3-b8b1-4dc6f2c1b4ef"
      },
      "execution_count": 19,
      "outputs": [
        {
          "output_type": "stream",
          "name": "stdout",
          "text": [
            "Enter something: 10\n",
            "Integer value: 10\n",
            "Float value: 10.0\n",
            "Boolean value: True\n"
          ]
        }
      ]
    },
    {
      "cell_type": "code",
      "source": [
        "# 10. Write code to demonstrate type casting with list elements ?\n",
        "# Original list with string elements representing numbers\n",
        "str_list = ['10', '20', '30', '40']\n",
        "\n",
        "print(\"Original list (strings):\", str_list)\n",
        "\n",
        "# Convert list of strings to list of integers using type casting\n",
        "int_list = [int(item) for item in str_list]\n",
        "\n",
        "print(\"List after type casting to integers:\", int_list)\n",
        "\n",
        "# Convert list of integers to list of floats\n",
        "float_list = [float(item) for item in int_list]\n",
        "\n",
        "print(\"List after type casting to floats:\", float_list)\n"
      ],
      "metadata": {
        "colab": {
          "base_uri": "https://localhost:8080/"
        },
        "id": "vpj-xc9cpIvs",
        "outputId": "439bcf9d-faba-482b-b5e7-9c84c4fb7e3f"
      },
      "execution_count": 20,
      "outputs": [
        {
          "output_type": "stream",
          "name": "stdout",
          "text": [
            "Original list (strings): ['10', '20', '30', '40']\n",
            "List after type casting to integers: [10, 20, 30, 40]\n",
            "List after type casting to floats: [10.0, 20.0, 30.0, 40.0]\n"
          ]
        }
      ]
    },
    {
      "cell_type": "code",
      "source": [
        "# 11. Write a program that checks if a number is positive, negative, or zero ?\n",
        "num = float(input(\"Enter a number: \"))\n",
        "if num > 0:\n",
        "    print(\"The number is positive.\")\n",
        "elif num < 0:\n",
        "    print(\"The number is negative.\")\n",
        "else:\n",
        "    print(\"The number is zero.\")\n"
      ],
      "metadata": {
        "colab": {
          "base_uri": "https://localhost:8080/"
        },
        "id": "mWneofUMpc36",
        "outputId": "2ff1e048-6256-4c87-bea7-eaf50830b695"
      },
      "execution_count": 21,
      "outputs": [
        {
          "output_type": "stream",
          "name": "stdout",
          "text": [
            "Enter a number: 10\n",
            "The number is positive.\n"
          ]
        }
      ]
    },
    {
      "cell_type": "code",
      "source": [
        "# 12. Write a for loop to print numbers from 1 to 10.\n",
        "for i in range(1, 11):\n",
        "    print(i, end=\" \")\n"
      ],
      "metadata": {
        "colab": {
          "base_uri": "https://localhost:8080/"
        },
        "id": "Amt3rBhPpq7z",
        "outputId": "38460175-4a06-4502-c332-08db9d3fdd22"
      },
      "execution_count": 23,
      "outputs": [
        {
          "output_type": "stream",
          "name": "stdout",
          "text": [
            "1 2 3 4 5 6 7 8 9 10 "
          ]
        }
      ]
    },
    {
      "cell_type": "code",
      "source": [
        "# 13. Write a Python program to find the sum of all even numbers between 1 and 50 ?\n",
        "sum = 0\n",
        "for i in range(1,51):\n",
        "  if(i % 2 == 0):\n",
        "    sum += i\n",
        "print(\"Sum = \", sum)"
      ],
      "metadata": {
        "colab": {
          "base_uri": "https://localhost:8080/"
        },
        "id": "o1nwC16cqJxj",
        "outputId": "ebfe06ca-bbd3-4fa7-eed1-4220e7181fd6"
      },
      "execution_count": 24,
      "outputs": [
        {
          "output_type": "stream",
          "name": "stdout",
          "text": [
            "Sum =  650\n"
          ]
        }
      ]
    },
    {
      "cell_type": "code",
      "source": [
        "# 14. Write a program to reverse a string using a while loop.\n",
        "user_input = input(\"Enter a String \")\n",
        "n = len(user_input)-1\n",
        "rev_str = \"\"\n",
        "while(n >= 0):\n",
        "  rev_str += user_input[n]\n",
        "  n = n-1\n",
        "print(\"reverse string : \" , rev_str)"
      ],
      "metadata": {
        "colab": {
          "base_uri": "https://localhost:8080/"
        },
        "id": "Wm-d27iFq0lv",
        "outputId": "b50a5a06-2305-4ea4-9d91-5cada82eb5e8"
      },
      "execution_count": 27,
      "outputs": [
        {
          "output_type": "stream",
          "name": "stdout",
          "text": [
            "Enter a String Vipul\n",
            "reverse string :  lupiV\n"
          ]
        }
      ]
    },
    {
      "cell_type": "code",
      "source": [
        "# 15.  Write a Python program to calculate the factorial of a number provided by the user using a while loop ?\n",
        "n = int(input(\"Enter a number : \"))\n",
        "i = n\n",
        "fact = 1;\n",
        "while(i >= 1):\n",
        "  fact *= i\n",
        "  i = i - 1\n",
        "print(\"Factorial of \",n,\" is \",fact)"
      ],
      "metadata": {
        "colab": {
          "base_uri": "https://localhost:8080/"
        },
        "id": "g5jWdHmnr7DE",
        "outputId": "2eba9baa-9fde-4fba-afab-bdaf5b2fd33e"
      },
      "execution_count": 33,
      "outputs": [
        {
          "output_type": "stream",
          "name": "stdout",
          "text": [
            "Enter a number : 5\n",
            "Factorial of  5  is  120\n"
          ]
        }
      ]
    }
  ]
}